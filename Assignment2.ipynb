{
 "cells": [
  {
   "cell_type": "markdown",
   "metadata": {},
   "source": [
    "## This assignment may be worked individually or in pairs. \n",
    "## Enter your name/names here:\n",
    "    "
   ]
  },
  {
   "cell_type": "code",
   "execution_count": 1,
   "metadata": {},
   "outputs": [],
   "source": [
    "#names here\n",
    "#Abhishek Dayal\n",
    "#Nathan Daniel"
   ]
  },
  {
   "cell_type": "markdown",
   "metadata": {
    "collapsed": true
   },
   "source": [
    "# Assignment 2: Naive Bayes and KNN classifier\n",
    "\n",
    "In this assignment you'll implement the Naive Bayes and KNN classifiers to classify patients as either having or not having diabetic retinopathy. For this task we'll be using the same Diabetic Retinopathy data set which was used in the previous assignment on decision trees. The implementation details are up to you but, generally it is a good idea to divide your code up into helper functions."
   ]
  },
  {
   "cell_type": "code",
   "execution_count": 2,
   "metadata": {},
   "outputs": [],
   "source": [
    "# Standard Headers\n",
    "# You are welcome to add additional headers if you wish\n",
    "# EXCEPT for scikit-learn... You may NOT use scikit-learn for this assignment!\n",
    "import pandas as pd\n",
    "import numpy as np\n",
    "import matplotlib.pyplot as plt\n",
    "from math import log\n",
    "from random import shuffle"
   ]
  },
  {
   "cell_type": "markdown",
   "metadata": {},
   "source": [
    "Read the data from a CSV file. You may choose to store it any any format you wish, like a Pandas dataframe, or any other data structure you'd like."
   ]
  },
  {
   "cell_type": "code",
   "execution_count": 3,
   "metadata": {},
   "outputs": [],
   "source": [
    "def get_data(filename):\n",
    "    data = []\n",
    "#     your code goes here\n",
    "    data = pd.read_csv(filename, header=None)\n",
    "    return data"
   ]
  },
  {
   "cell_type": "markdown",
   "metadata": {},
   "source": [
    "## Part 1: Naive Bayes Classifier\n",
    "\n",
    "Naive Bayes (NB) classifier is a simple probabilistic classifier that is based on applying the Bayes' theorem and assumes a strong (naive) independence between features. The Diabetic Retinopathy data set contains both categorical and continuous features. Dealing with categorical features has been discussed in detail in class. Continuous attributes, on the other hand, are more interesting to handle. Most commonly, this is done by assuming normal probability distribution over the feature values or by binning the attribute values in a fixed number of bins. In this assignment you'll be implementing the binning approach. For each continuous attribute, you'll construct 3 equal sized bins. For example, feature 5 ranges from `[1 - 120]` the 3 bins that you'll construct will be `[1 - 40]`, `[41 - 80]`, `[81 - 120]`."
   ]
  },
  {
   "cell_type": "markdown",
   "metadata": {},
   "source": [
    "Q1. Implement a Naive Bayes classifier. Measure the accuracy of your classifier using 5-fold cross validation and display the confusion matrix. Also print the precision and recall for class label 1 (patients that have been diagnosed with the disease)."
   ]
  },
  {
   "cell_type": "code",
   "execution_count": 4,
   "metadata": {},
   "outputs": [],
   "source": [
    "#PREP\n",
    "# bin continuous attributes (needs to be done with subset of df that is training data)\n",
    "def bin_df(df):\n",
    "    bins_dict = dict()\n",
    "    for c in range(2,18):\n",
    "        out, bins = pd.cut(df[c], 3, retbins=True, labels=[1,2,3])\n",
    "        bins_list = list(bins)\n",
    "        bins_list[0] = np.iinfo(np.int32).min\n",
    "        bins_list[-1] = np.iinfo(np.int32).max\n",
    "        bins_dict[c] = bins_list\n",
    "        \n",
    "        df[c] = out\n",
    "\n",
    "    df.head()\n",
    "    return (df, bins_dict)"
   ]
  },
  {
   "cell_type": "code",
   "execution_count": 5,
   "metadata": {},
   "outputs": [],
   "source": [
    "def bin_test(df, bins_dict):\n",
    "    # bins_dict (K,V) = (feature #, bin threshold list)\n",
    "    binned_df = df.copy()\n",
    "    for c in range(2,18):\n",
    "        ii = pd.IntervalIndex.from_breaks(bins_dict[c])\n",
    "        column_binned = pd.cut(binned_df[c].to_list(), ii)\n",
    "        column_binned.categories = [1,2,3]\n",
    "        binned_df[c] = column_binned\n",
    "    \n",
    "    return binned_df"
   ]
  },
  {
   "cell_type": "code",
   "execution_count": 6,
   "metadata": {},
   "outputs": [],
   "source": [
    "def nb_classify(test_record, training_df):\n",
    "    #CLASSIFY\n",
    "    prior_1 = training_df[training_df[19] == 1].count()[0]/training_df.shape[0]\n",
    "    prior_0 = training_df[training_df[19] == 0].count()[0]/training_df.shape[0]\n",
    "\n",
    "    groups = training_df.groupby(training_df[19])\n",
    "    g1 = groups.get_group(1)\n",
    "    g0 = groups.get_group(0)\n",
    "    do_laplace = [0 for x in range(18)]\n",
    "\n",
    "    for i in range(18):\n",
    "        rval = test_record[i]\n",
    "        \n",
    "        counts_given_1 = g1[g1[i] == rval].count()[0]\n",
    "        counts_given_0 = g0[g0[i] == rval].count()[0]\n",
    "        denom_1 = g1.shape[0]\n",
    "        denom_0 = g0.shape[0]\n",
    "        \n",
    "        # number of different values that attribute i can take. add this to denom for laplace\n",
    "        unique = len(training_df[i].unique())\n",
    "        \n",
    "        if counts_given_1 == 0 or counts_given_0 == 0:\n",
    "            counts_given_1 += 1\n",
    "            counts_given_0 += 1\n",
    "            denom_1 += unique\n",
    "            denom_0 += unique\n",
    "        prior_1 *= counts_given_1 / denom_1\n",
    "        prior_0 *= counts_given_0 / denom_0\n",
    "    \n",
    "    return 1 if prior_1 >= prior_0 else 0"
   ]
  },
  {
   "cell_type": "code",
   "execution_count": 7,
   "metadata": {
    "scrolled": false
   },
   "outputs": [
    {
     "name": "stdout",
     "output_type": "stream",
     "text": [
      "Confusion Matrix for fold 1\n",
      " [[82 32]\n",
      " [57 59]]\n",
      "Confusion Matrix for fold 2\n",
      " [[70 47]\n",
      " [52 61]]\n",
      "Confusion Matrix for fold 3\n",
      " [[75 30]\n",
      " [64 61]]\n",
      "Confusion Matrix for fold 4\n",
      " [[66 37]\n",
      " [60 67]]\n",
      "Confusion Matrix for fold 5\n",
      " [[73 28]\n",
      " [66 63]]\n",
      "Average Accuracy is:  0.5886956521739131\n",
      "\n",
      "Final Confusion Matrix\n",
      " [[366 174]\n",
      " [299 311]]\n",
      "Class 1 Precision: 0.641237 and Recall: 0.509836\n"
     ]
    }
   ],
   "source": [
    "# your code goes here\n",
    "# column 19 is class label\n",
    "\n",
    "\n",
    "df = get_data('messidor_features.txt')\n",
    "df = df.sample(frac=1).reset_index(drop=True)\n",
    "\n",
    "# TODO: trim off class label and hold separately\n",
    "\n",
    "sum_acc = 0\n",
    "\n",
    "#OUTPUT\n",
    "# 5-fold cross validation\n",
    "\n",
    "data_len = df.shape[0]\n",
    "interval = (int)(data_len / 5)\n",
    "\n",
    "confusion_matrix = np.array([[0,0],[0,0]], np.int32)\n",
    "\n",
    "\n",
    "for i in range(0, data_len - interval, interval):\n",
    "    cur_matrix = np.array([[0,0],[0,0]], np.int32)\n",
    "    # partition data into train_set and test_set\n",
    "    train_set = df[0:i].append(df[i+interval:])\n",
    "    # test_set is deep copy\n",
    "    test_set = df[i:i+interval]\n",
    "    \n",
    "    binned_train_set, bins = bin_df(train_set)\n",
    "    \n",
    "    # binned_test_set is a shallow copy\n",
    "    binned_test_set = bin_test(test_set, bins)\n",
    "    \n",
    "    predicted_values = binned_test_set.apply(nb_classify, args=(binned_train_set,), axis=1)\n",
    "    \n",
    "    for idx, pred in predicted_values.items():\n",
    "        actl = binned_test_set.loc[idx][19]\n",
    "        cur_matrix[actl][pred] += 1\n",
    "    print(\"Confusion Matrix for fold %i\\n\" % (i//interval + 1), cur_matrix)\n",
    "    confusion_matrix += cur_matrix\n",
    "    \n",
    "    accuracy = (cur_matrix[0][0] + cur_matrix[1][1])/len(predicted_values)\n",
    "    sum_acc += accuracy\n",
    "\n",
    "    \n",
    "print(\"Average Accuracy is: \", sum_acc/5)\n",
    "# output confusion matrix\n",
    "\n",
    "print(\"\\nFinal Confusion Matrix\\n\", confusion_matrix)\n",
    "\n",
    "predicted_ones = np.sum(confusion_matrix, dtype=np.int32, axis=0)[1]\n",
    "actually_ones  = np.sum(confusion_matrix, dtype=np.int32, axis=1)[1]\n",
    "correctly_predicted_ones = confusion_matrix[1][1]\n",
    "# print precision/recall of class 1\n",
    "precision = correctly_predicted_ones/predicted_ones\n",
    "recall = correctly_predicted_ones/actually_ones\n",
    "\n",
    "print(\"Class 1 Precision: %f and Recall: %f\" % (precision, recall))\n",
    "\n"
   ]
  },
  {
   "cell_type": "markdown",
   "metadata": {},
   "source": [
    "\n",
    "## Part 2: K Nearest Neighbor (KNN) Classifier\n",
    "\n",
    "The KNN classifier consists of two stages:-\n",
    "- In the training stage, the classifier takes the training data and simply memorizes it\n",
    "- In the test stage, the classifier compares the test data with the training data and simply returns the maximum occuring label of the k nearest data points.\n",
    "\n",
    "The distance calculation method is central to the algorithm, typically Euclidean distance is used but other distance metrics like Manhattan distance can also be used. In this assignment you'll be implementing the classifier using the Euclidean distance metric. It is important to note that Euclidean distance is very sensitive to the scaling of different attributes hence, before you can build your classifier you have to normalize the values of each feature in the data set."
   ]
  },
  {
   "cell_type": "markdown",
   "metadata": {},
   "source": [
    "Q2. Normalize the dataset so that each feature value lies between `[0-1]`."
   ]
  },
  {
   "cell_type": "code",
   "execution_count": 8,
   "metadata": {},
   "outputs": [],
   "source": [
    "# your code goes here\n",
    "def normalize_df(df):\n",
    "    normalized_df=df.copy()\n",
    "    for i in range(1, 18):\n",
    "        normalized_df[i] = (df[i]-df[i].min())/(df[i].max()-df[i].min())\n",
    "    return normalized_df"
   ]
  },
  {
   "cell_type": "markdown",
   "metadata": {},
   "source": [
    "Q3. Build your KNN classifier. "
   ]
  },
  {
   "cell_type": "code",
   "execution_count": 9,
   "metadata": {},
   "outputs": [],
   "source": [
    "# your code goes here\n",
    "def knn_classify(record, training_df, k):\n",
    "    delta_df = training_df.sub(record, axis=1)\n",
    "    \n",
    "    delta_mtx = delta_df.loc[:, :18].to_numpy()\n",
    "    \n",
    "    delta_mtx_sqr = np.square(delta_mtx)\n",
    "    \n",
    "    dots = np.add.reduce(delta_mtx_sqr, axis=1)\n",
    "    \n",
    "    smallest_idx = np.argpartition(dots, k)\n",
    "    \n",
    "    num_0, num_1 = 0, 0\n",
    "    for idx in smallest_idx[:k]:\n",
    "        if training_df.iloc[idx][19] == 0:\n",
    "            num_0 += 1\n",
    "        else:\n",
    "            num_1 += 1\n",
    "    return 0 if num_0 > num_1 else 1"
   ]
  },
  {
   "cell_type": "markdown",
   "metadata": {},
   "source": [
    "Q4. Find the best value of k for this data. Try k ranging from 1 to 10. For each k value, use a 5-fold cross validation to evaluate the accuracy with that k. In each fold of CV, divide your data into a training set and a validation set. Print out the best value of k and the accuracy achieved with that value. Return the best value of k. "
   ]
  },
  {
   "cell_type": "code",
   "execution_count": 10,
   "metadata": {},
   "outputs": [],
   "source": [
    "# your code goes here\n",
    "def find_best_k(df):\n",
    "    data_len = df.shape[0]\n",
    "    interval = (int)(data_len / 5)\n",
    "    \n",
    "    best_accuracy = 0\n",
    "    best_k = -1\n",
    "\n",
    "    for k in range(1, 11, 2):\n",
    "        cur_acc = 0\n",
    "        for i in range(0, data_len - interval, interval):\n",
    "            # partition data into train_set and validation_set\n",
    "            train_set = df[0:i].append(df[i+interval:])\n",
    "            # validation_set is deep copy\n",
    "            validation_set = df[i:i+interval]\n",
    "            \n",
    "            # call KNN classifier with k, train_set, and validation_set\n",
    "            predicted_values = validation_set.apply(knn_classify, args=(train_set, k), axis=1)\n",
    "            # compute accuracy of results\n",
    "            num_correct = 0\n",
    "            for idx, pred in predicted_values.items():\n",
    "                actl = validation_set.loc[idx][19]\n",
    "                if pred == actl:\n",
    "                    num_correct += 1\n",
    "            accuracy = num_correct/predicted_values.size\n",
    "            cur_acc += accuracy\n",
    "        avg_acc = cur_acc/5\n",
    "        if (avg_acc >= best_accuracy):\n",
    "            best_accuracy = avg_acc\n",
    "            best_k = k\n",
    "        \n",
    "        \n",
    "    print(\"Best k:\", best_k, \"Accuracy Achieved:\", best_accuracy)\n",
    "    return best_k"
   ]
  },
  {
   "cell_type": "markdown",
   "metadata": {},
   "source": [
    "Q5. Now measure the accuracy of your classifier using 5-fold cross validation. In each fold of this CV, divide your data into a training set and a test set. The training set should get sent through your code for Q4, resulting in a value of k to use. Using that k, calculate an accuracy on the test set. You will average the accuracy over all 5 folds to obtain the final accuracy measurement. Print the accuracy as well as the precision and recall for class label 1 (patients that have been diagnosed with the disease)."
   ]
  },
  {
   "cell_type": "code",
   "execution_count": 11,
   "metadata": {},
   "outputs": [
    {
     "name": "stdout",
     "output_type": "stream",
     "text": [
      "Best k: 9 Accuracy Achieved: 0.6304347826086957\n",
      "Confusion Matrix for fold 1\n",
      " [[56 46]\n",
      " [34 94]]\n",
      "Best k: 7 Accuracy Achieved: 0.6358695652173914\n",
      "Confusion Matrix for fold 2\n",
      " [[76 31]\n",
      " [52 71]]\n",
      "Best k: 7 Accuracy Achieved: 0.6282608695652174\n",
      "Confusion Matrix for fold 3\n",
      " [[69 41]\n",
      " [37 83]]\n",
      "Best k: 9 Accuracy Achieved: 0.6489130434782608\n",
      "Confusion Matrix for fold 4\n",
      " [[59 47]\n",
      " [33 91]]\n",
      "Best k: 1 Accuracy Achieved: 0.625\n",
      "Confusion Matrix for fold 5\n",
      " [[57 57]\n",
      " [38 78]]\n",
      "Average Accuracy is:  0.6382608695652173\n",
      "\n",
      "Final Confusion Matrix\n",
      " [[317 222]\n",
      " [194 417]]\n",
      "Class 1 Precision: 0.652582 and Recall: 0.682488\n"
     ]
    }
   ],
   "source": [
    "# your code goes here\n",
    "\n",
    "df = get_data('messidor_features.txt')\n",
    "sum_acc = 0\n",
    "\n",
    "# 5-fold cross validation\n",
    "\n",
    "data_len = df.shape[0]\n",
    "interval = (int)(data_len / 5)\n",
    "\n",
    "confusion_matrix = np.array([[0,0],[0,0]], dtype=np.int32)\n",
    "\n",
    "for i in range(0, data_len - interval, interval):\n",
    "    cur_matrix = np.array([[0,0],[0,0]], dtype=np.int32)\n",
    "\n",
    "    # partition data into train_set and test_set\n",
    "    train_set = df[0:i].append(df[i+interval:])\n",
    "    # test_set is deep copy\n",
    "    test_set = df[i:i+interval]\n",
    "    \n",
    "    norm_train_set = normalize_df(train_set)\n",
    "    norm_test_set = normalize_df(test_set)\n",
    "    \n",
    "    k = find_best_k(norm_train_set)\n",
    "    # call KNN classifier with k, norm_train_set, norm_test_set\n",
    "    \n",
    "    predicted_values = norm_test_set.apply(knn_classify, args=(norm_train_set, k), axis=1)\n",
    "    \n",
    "    for idx, pred in predicted_values.items():\n",
    "        actl = int(norm_test_set.loc[idx][19])\n",
    "        cur_matrix[actl][pred] += 1\n",
    "        \n",
    "    print(\"Confusion Matrix for fold %i\\n\" % (i//interval + 1), cur_matrix)\n",
    "    confusion_matrix += cur_matrix\n",
    "    \n",
    "    accuracy = (cur_matrix[0][0] + cur_matrix[1][1])/len(predicted_values)\n",
    "    sum_acc += accuracy\n",
    "\n",
    "    \n",
    "print(\"Average Accuracy is: \", sum_acc/5)\n",
    "# output confusion matrix\n",
    "\n",
    "print(\"\\nFinal Confusion Matrix\\n\", confusion_matrix)\n",
    "\n",
    "predicted_ones = np.sum(confusion_matrix, dtype=np.int32, axis=0)[1]\n",
    "actually_ones  = np.sum(confusion_matrix, dtype=np.int32, axis=1)[1]\n",
    "correctly_predicted_ones = confusion_matrix[1][1]\n",
    "# print precision/recall of class 1\n",
    "precision = correctly_predicted_ones/predicted_ones\n",
    "recall = correctly_predicted_ones/actually_ones\n",
    "\n",
    "print(\"Class 1 Precision: %f and Recall: %f\" % (precision, recall))\n"
   ]
  }
 ],
 "metadata": {
  "kernelspec": {
   "display_name": "Python 3",
   "language": "python",
   "name": "python3"
  },
  "language_info": {
   "codemirror_mode": {
    "name": "ipython",
    "version": 3
   },
   "file_extension": ".py",
   "mimetype": "text/x-python",
   "name": "python",
   "nbconvert_exporter": "python",
   "pygments_lexer": "ipython3",
   "version": "3.7.4"
  }
 },
 "nbformat": 4,
 "nbformat_minor": 2
}
