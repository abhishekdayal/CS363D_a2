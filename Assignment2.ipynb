{
 "cells": [
  {
   "cell_type": "markdown",
   "metadata": {},
   "source": [
    "## This assignment may be worked individually or in pairs. \n",
    "## Enter your name/names here:\n",
    "    "
   ]
  },
  {
   "cell_type": "code",
   "execution_count": 1,
   "metadata": {},
   "outputs": [],
   "source": [
    "#names here\n",
    "#Abhishek Dayal\n",
    "#Nathan Daniel"
   ]
  },
  {
   "cell_type": "markdown",
   "metadata": {
    "collapsed": true
   },
   "source": [
    "# Assignment 2: Naive Bayes and KNN classifier\n",
    "\n",
    "In this assignment you'll implement the Naive Bayes and KNN classifiers to classify patients as either having or not having diabetic retinopathy. For this task we'll be using the same Diabetic Retinopathy data set which was used in the previous assignment on decision trees. The implementation details are up to you but, generally it is a good idea to divide your code up into helper functions."
   ]
  },
  {
   "cell_type": "code",
   "execution_count": 2,
   "metadata": {},
   "outputs": [],
   "source": [
    "# Standard Headers\n",
    "# You are welcome to add additional headers if you wish\n",
    "# EXCEPT for scikit-learn... You may NOT use scikit-learn for this assignment!\n",
    "import pandas as pd\n",
    "import numpy as np\n",
    "import matplotlib.pyplot as plt\n",
    "from math import log\n",
    "from random import shuffle"
   ]
  },
  {
   "cell_type": "markdown",
   "metadata": {},
   "source": [
    "Read the data from a CSV file. You may choose to store it any any format you wish, like a Pandas dataframe, or any other data structure you'd like."
   ]
  },
  {
   "cell_type": "code",
   "execution_count": 11,
   "metadata": {},
   "outputs": [],
   "source": [
    "def get_data(filename):\n",
    "    data = []\n",
    "#     your code goes here\n",
    "    data = pd.read_csv(filename, header=None)\n",
    "    return data"
   ]
  },
  {
   "cell_type": "markdown",
   "metadata": {},
   "source": [
    "## Part 1: Naive Bayes Classifier\n",
    "\n",
    "Naive Bayes (NB) classifier is a simple probabilistic classifier that is based on applying the Bayes' theorem and assumes a strong (naive) independence between features. The Diabetic Retinopathy data set contains both categorical and continuous features. Dealing with categorical features has been discussed in detail in class. Continuous attributes, on the other hand, are more interesting to handle. Most commonly, this is done by assuming normal probability distribution over the feature values or by binning the attribute values in a fixed number of bins. In this assignment you'll be implementing the binning approach. For each continuous attribute, you'll construct 3 equal sized bins. For example, feature 5 ranges from `[1 - 120]` the 3 bins that you'll construct will be `[1 - 40]`, `[41 - 80]`, `[81 - 120]`."
   ]
  },
  {
   "cell_type": "markdown",
   "metadata": {},
   "source": [
    "Q1. Implement a Naive Bayes classifier. Measure the accuracy of your classifier using 5-fold cross validation and display the confusion matrix. Also print the precision and recall for class label 1 (patients that have been diagnosed with the disease)."
   ]
  },
  {
   "cell_type": "code",
   "execution_count": 47,
   "metadata": {},
   "outputs": [
    {
     "data": {
      "text/plain": [
       "{2: [0.85, 51.0, 101.0, 151.0],\n",
       " 3: [0.869, 44.666666666666664, 88.33333333333333, 132.0],\n",
       " 4: [0.881, 40.666666666666664, 80.33333333333333, 120.0],\n",
       " 5: [0.896, 35.666666666666664, 70.33333333333333, 105.0],\n",
       " 6: [0.904, 33.0, 65.0, 97.0],\n",
       " 7: [0.912, 30.333333333333332, 59.666666666666664, 89.0],\n",
       " 8: [-0.05431583400000006,\n",
       "  134.8792186666667,\n",
       "  269.40916333333337,\n",
       "  403.93910800000003],\n",
       " 9: [-0.167131427, 55.71047566666667, 111.42095133333333, 167.131427],\n",
       " 10: [-0.10607009199999999,\n",
       "  35.35669733333333,\n",
       "  70.71339466666666,\n",
       "  106.07009199999999],\n",
       " 11: [-0.059766121, 19.92204033333333, 39.84408066666666, 59.766121],\n",
       " 12: [-0.051423208000000005, 17.141069333333334, 34.28213866666667, 51.423208],\n",
       " 13: [-0.020098605, 6.699535, 13.39907, 20.098605],\n",
       " 14: [-0.0059377990000000005,\n",
       "  1.9792663333333333,\n",
       "  3.9585326666666667,\n",
       "  5.937799],\n",
       " 15: [-0.003086753, 1.0289176666666666, 2.0578353333333332, 3.086753],\n",
       " 16: [0.36753754499999997, 0.4425803333333333, 0.5173986666666667, 0.592217],\n",
       " 17: [0.05774470699999999,\n",
       "  0.11167033333333332,\n",
       "  0.16543466666666665,\n",
       "  0.21919899999999998]}"
      ]
     },
     "execution_count": 47,
     "metadata": {},
     "output_type": "execute_result"
    }
   ],
   "source": [
    "# your code goes here\n",
    "# column 19 is class label\n",
    "\n",
    "# columns 2 - 17\n",
    "# Col 2: min - 1 max 130\n",
    "# Col 3: min - 1 max 132\n",
    "# Col 4: min - 1 max 120\n",
    "# Col 5: min - 1 max 105\n",
    "# Col 6: min - 1 max 97\n",
    "# Col 7: min - 1 max 89\n",
    "# Col 8: min - 0.349274 max 403.93910800000003\n",
    "# Col 9: min - 0.0 max 167.131427\n",
    "# Col 10: min - 0.0 max 106.07009199999999\n",
    "# Col 11: min - 0.0 max 59.766121\n",
    "# Col 12: min - 0.0 max 51.423208\n",
    "# Col 13: min - 0.0 max 20.098605\n",
    "# Col 14: min - 0.0 max 5.937799\n",
    "# Col 15: min - 0.0 max 3.086753\n",
    "# Col 16: min - 0.367762 max 0.592217\n",
    "# Col 17: min - 0.05790599999999999 max 0.21919899999999998\n",
    "\n",
    "df = get_data('messidor_features.txt')\n",
    "\n",
    "bins_dict = dict()\n",
    "for c in range(2,18):\n",
    "    cut = pd.cut(df[c], 3, retbins=True, labels=[1,2,3])\n",
    "    bins = list(cut[1])\n",
    "    bins_dict[c] = bins\n",
    "    out = cut[0]\n",
    "    df[c] = out\n",
    "\n",
    "df.head()"
   ]
  },
  {
   "cell_type": "markdown",
   "metadata": {},
   "source": [
    "\n",
    "## Part 2: K Nearest Neighbor (KNN) Classifier\n",
    "\n",
    "The KNN classifier consists of two stages:-\n",
    "- In the training stage, the classifier takes the training data and simply memorizes it\n",
    "- In the test stage, the classifier compares the test data with the training data and simply returns the maximum occuring label of the k nearest data points.\n",
    "\n",
    "The distance calculation method is central to the algorithm, typically Euclidean distance is used but other distance metrics like Manhattan distance can also be used. In this assignment you'll be implementing the classifier using the Euclidean distance metric. It is important to note that Euclidean distance is very sensitive to the scaling of different attributes hence, before you can build your classifier you have to normalize the values of each feature in the data set."
   ]
  },
  {
   "cell_type": "markdown",
   "metadata": {},
   "source": [
    "Q2. Normalize the dataset so that each feature value lies between `[0-1]`."
   ]
  },
  {
   "cell_type": "code",
   "execution_count": 5,
   "metadata": {},
   "outputs": [],
   "source": [
    "# your code goes here\n"
   ]
  },
  {
   "cell_type": "markdown",
   "metadata": {},
   "source": [
    "Q3. Build your KNN classifier. "
   ]
  },
  {
   "cell_type": "code",
   "execution_count": 6,
   "metadata": {},
   "outputs": [],
   "source": [
    "# your code goes here\n"
   ]
  },
  {
   "cell_type": "markdown",
   "metadata": {},
   "source": [
    "Q4. Find the best value of k for this data. Try k ranging from 1 to 10. For each k value, use a 5-fold cross validation to evaluate the accuracy with that k. In each fold of CV, divide your data into a training set and a validation set. Print out the best value of k and the accuracy achieved with that value. Return the best value of k. "
   ]
  },
  {
   "cell_type": "code",
   "execution_count": 7,
   "metadata": {},
   "outputs": [],
   "source": [
    "# your code goes here\n"
   ]
  },
  {
   "cell_type": "markdown",
   "metadata": {},
   "source": [
    "Q5. Now measure the accuracy of your classifier using 5-fold cross validation. In each fold of this CV, divide your data into a training set and a test set. The training set should get sent through your code for Q4, resulting in a value of k to use. Using that k, calculate an accuracy on the test set. You will average the accuracy over all 5 folds to obtain the final accuracy measurement. Print the accuracy as well as the precision and recall for class label 1 (patients that have been diagnosed with the disease)."
   ]
  },
  {
   "cell_type": "code",
   "execution_count": 8,
   "metadata": {},
   "outputs": [],
   "source": [
    "# your code goes here\n"
   ]
  }
 ],
 "metadata": {
  "kernelspec": {
   "display_name": "Python 3",
   "language": "python",
   "name": "python3"
  },
  "language_info": {
   "codemirror_mode": {
    "name": "ipython",
    "version": 3
   },
   "file_extension": ".py",
   "mimetype": "text/x-python",
   "name": "python",
   "nbconvert_exporter": "python",
   "pygments_lexer": "ipython3",
   "version": "3.7.4"
  }
 },
 "nbformat": 4,
 "nbformat_minor": 2
}
